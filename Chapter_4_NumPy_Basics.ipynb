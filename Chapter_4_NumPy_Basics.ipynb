{
 "cells": [
  {
   "cell_type": "markdown",
   "id": "b081107e-6ab0-4bea-b744-0b66870c6323",
   "metadata": {},
   "source": [
    "## Chapter 4 NumPy Basics: Arrays and Vectorized Computation\n",
    "For most data analysis applications, the main areas of funcionality:\n",
    "* Fast Vectorized array operations for data munging and cleaning, subsetting and any other kinds of computations.\n",
    "* Common array algorithms like sorting, unique, and set operations. \n",
    "* Efficient descriptive statistics and aggregating/summarizing data.\n",
    "* Data alignment and relation data manipulations for merging and joining together heterogeneous datasets.\n",
    "* Expressing conditional logic as array expressions instead of loops with if-elif-else branches\n",
    "* Group-wise data manipulations (aggregation, transformation, function application)\n",
    "<br>\n",
    "***\n",
    "### 4.1 The NumPy ndarray: A Multidimensional Array Object\n",
    "One of the key features of NumPy is its N-dimensional array object (__ndarray__) which is a fast, flexible container for large datasets in Python.<br>\n",
    "Arrays enable you to perform mathematical operations on whole blocks of data using similar syntax to the equivalent operations between scalar<br> \n",
    "elements. <br>\n",
    "<br>\n",
    "NumPy enables batch computations with similar syntax to scalar values on built-in Python objects, I first import NumPy and generate a small array<br>\n",
    "of random data:"
   ]
  },
  {
   "cell_type": "code",
   "execution_count": 1,
   "id": "a569e8de-d301-4da5-ad8f-2347552c2a6b",
   "metadata": {},
   "outputs": [
    {
     "data": {
      "text/plain": [
       "array([[-0.27167476, -0.77877042, -0.02588317],\n",
       "       [-1.66818944,  1.43918142, -1.82932455]])"
      ]
     },
     "execution_count": 1,
     "metadata": {},
     "output_type": "execute_result"
    }
   ],
   "source": [
    "#Example:\n",
    "import numpy as np\n",
    "\n",
    "#Generate some random data\n",
    "\n",
    "data = np.random.randn(2,3)\n",
    "data"
   ]
  },
  {
   "cell_type": "markdown",
   "id": "dee183b0-b765-4ebf-a00d-f4d74491c14b",
   "metadata": {},
   "source": [
    "Then write mathematical operations with data:"
   ]
  },
  {
   "cell_type": "code",
   "execution_count": 2,
   "id": "950af401-db66-4604-b5a0-f2a3faf90e16",
   "metadata": {},
   "outputs": [
    {
     "data": {
      "text/plain": [
       "array([[ -2.7167476 ,  -7.78770419,  -0.25883171],\n",
       "       [-16.68189437,  14.39181419, -18.29324553]])"
      ]
     },
     "execution_count": 2,
     "metadata": {},
     "output_type": "execute_result"
    }
   ],
   "source": [
    "data * 10"
   ]
  },
  {
   "cell_type": "code",
   "execution_count": 3,
   "id": "e21e2cd1-f7b3-4767-8865-c0baecc58295",
   "metadata": {},
   "outputs": [
    {
     "data": {
      "text/plain": [
       "array([[-0.54334952, -1.55754084, -0.05176634],\n",
       "       [-3.33637887,  2.87836284, -3.65864911]])"
      ]
     },
     "execution_count": 3,
     "metadata": {},
     "output_type": "execute_result"
    }
   ],
   "source": [
    "data + data"
   ]
  },
  {
   "cell_type": "markdown",
   "id": "b18734f4-ae81-404b-8ee4-2665a6f13577",
   "metadata": {},
   "source": [
    "An ndarray is a generic multidimensional container for homogeneous data; that is all of the elements must be the same type. Every array has a __shape__, a tuple indicating the size of each dimension,<br>\n",
    "and a dtype, an object describing the _data type_ of the array. "
   ]
  },
  {
   "cell_type": "code",
   "execution_count": 4,
   "id": "1126efee-29cf-4efb-b434-e25c5fb9a666",
   "metadata": {},
   "outputs": [
    {
     "data": {
      "text/plain": [
       "(2, 3)"
      ]
     },
     "metadata": {},
     "output_type": "display_data"
    },
    {
     "data": {
      "text/plain": [
       "dtype('float64')"
      ]
     },
     "metadata": {},
     "output_type": "display_data"
    }
   ],
   "source": [
    "display(data.shape)\n",
    "display(data.dtype)"
   ]
  },
  {
   "cell_type": "markdown",
   "id": "e6829a25-f086-45c6-aa94-d73f63fc0a36",
   "metadata": {},
   "source": [
    "#### Creating ndarrays\n",
    "The easiest way to create an array is to use the array function. This accepts any sequence-like object (including other arrays) and produces a new NumPy array containing the passed data. For example,<br>\n",
    "a list is a good candidate for conversion:"
   ]
  },
  {
   "cell_type": "code",
   "execution_count": 5,
   "id": "af2a31ad-86f3-4830-844b-1a7287673aed",
   "metadata": {},
   "outputs": [
    {
     "data": {
      "text/plain": [
       "array([6. , 7.5, 8. , 0. , 1. ])"
      ]
     },
     "execution_count": 5,
     "metadata": {},
     "output_type": "execute_result"
    }
   ],
   "source": [
    "data1 = [6, 7.5, 8, 0, 1]\n",
    "arr1 = np.array(data1)\n",
    "arr1"
   ]
  },
  {
   "cell_type": "markdown",
   "id": "69a18140-ad8d-400e-84ee-cac994e13e4d",
   "metadata": {},
   "source": [
    "Nested sequences, like a list of equal-length lists, will be converted into a multidimensional array:"
   ]
  },
  {
   "cell_type": "code",
   "execution_count": 6,
   "id": "238ab3b5-9c62-477e-bf60-cf2bffbe8f03",
   "metadata": {},
   "outputs": [
    {
     "data": {
      "text/plain": [
       "array([[1, 2, 3, 4],\n",
       "       [5, 6, 7, 8]])"
      ]
     },
     "execution_count": 6,
     "metadata": {},
     "output_type": "execute_result"
    }
   ],
   "source": [
    "data2 = [[1,2,3,4],[5,6,7,8]]\n",
    "arr2 = np.array(data2)\n",
    "arr2"
   ]
  },
  {
   "cell_type": "markdown",
   "id": "78eee1d2-7ca5-42ca-83cd-35eb92eb27d7",
   "metadata": {},
   "source": [
    "Since data2 was a list of lists, the Numpy array __arr2__ has two dimensions with shape inferred from the data. We can confirm this by inspecting the __ndim__ and __shape__ attributes:"
   ]
  },
  {
   "cell_type": "code",
   "execution_count": 7,
   "id": "888b55d1-08c2-4906-9886-6f7086e20035",
   "metadata": {},
   "outputs": [
    {
     "data": {
      "text/plain": [
       "2"
      ]
     },
     "metadata": {},
     "output_type": "display_data"
    },
    {
     "data": {
      "text/plain": [
       "(2, 4)"
      ]
     },
     "metadata": {},
     "output_type": "display_data"
    }
   ],
   "source": [
    "display(arr2.ndim)\n",
    "display(arr2.shape)"
   ]
  },
  {
   "cell_type": "markdown",
   "id": "0d48e275-f6e3-43d6-8af2-aff681cf1556",
   "metadata": {},
   "source": [
    "arrange is an array-valued version of the built-in Python range function:"
   ]
  },
  {
   "cell_type": "code",
   "execution_count": 8,
   "id": "d85032b5-bb2d-42ee-9b3a-dd432e9dda89",
   "metadata": {},
   "outputs": [
    {
     "data": {
      "text/plain": [
       "array([ 0,  1,  2,  3,  4,  5,  6,  7,  8,  9, 10, 11, 12, 13, 14])"
      ]
     },
     "execution_count": 8,
     "metadata": {},
     "output_type": "execute_result"
    }
   ],
   "source": [
    "np.arange(15)"
   ]
  },
  {
   "cell_type": "markdown",
   "id": "b70f59f6-472f-4f17-8a0a-084a5d083599",
   "metadata": {},
   "source": [
    "You can explicity convert or _cast_ an array from one dtype to another using ndarray's __astype__ method:"
   ]
  },
  {
   "cell_type": "code",
   "execution_count": 9,
   "id": "ba25bec7-965a-45ef-83fb-d980217b940f",
   "metadata": {},
   "outputs": [
    {
     "data": {
      "text/plain": [
       "dtype('int32')"
      ]
     },
     "metadata": {},
     "output_type": "display_data"
    },
    {
     "data": {
      "text/plain": [
       "dtype('float64')"
      ]
     },
     "metadata": {},
     "output_type": "display_data"
    }
   ],
   "source": [
    "arr= np.array([1,2,3,4,5])\n",
    "display(arr.dtype)\n",
    "\n",
    "float_arr = arr.astype(np.float64)\n",
    "display(float_arr.dtype)"
   ]
  },
  {
   "cell_type": "code",
   "execution_count": 10,
   "id": "d765f8bf-12ab-4681-b52d-aaa7eb00b422",
   "metadata": {},
   "outputs": [
    {
     "data": {
      "text/plain": [
       "array([ 3.7, -1.2, -2.6,  0.5, 12.9, 10.1])"
      ]
     },
     "metadata": {},
     "output_type": "display_data"
    },
    {
     "data": {
      "text/plain": [
       "array([ 3, -1, -2,  0, 12, 10])"
      ]
     },
     "metadata": {},
     "output_type": "display_data"
    }
   ],
   "source": [
    "arr = np.array([3.7, -1.2, -2.6, 0.5, 12.9, 10.1])\n",
    "display(arr)\n",
    "display(arr.astype(np.int32))"
   ]
  },
  {
   "cell_type": "markdown",
   "id": "fd7a5d4a-2571-43b5-a66b-7f7599070329",
   "metadata": {},
   "source": [
    "If you have an array of strings representing numbers, you can use __astype__ to convert them to numeric form:"
   ]
  },
  {
   "cell_type": "code",
   "execution_count": 11,
   "id": "799cbe85-8e05-4a9a-85ab-8dd06a0ca725",
   "metadata": {},
   "outputs": [
    {
     "data": {
      "text/plain": [
       "array([ 1.25, -9.6 ,  4.2 ])"
      ]
     },
     "execution_count": 11,
     "metadata": {},
     "output_type": "execute_result"
    }
   ],
   "source": [
    "numeric_strings = np.array(['1.25', '-9.6', '4.2'], dtype = np.string_)\n",
    "numeric_strings.astype(np.float64)"
   ]
  },
  {
   "cell_type": "markdown",
   "id": "fd3a939a-9529-4330-9c34-a610529728df",
   "metadata": {},
   "source": [
    "#### Arithmetic with NumPy Arrays\n",
    "Arrays are important because they enable you to express batch operations on data without writing any for loops. NumPy users call this vectorization. Any arithmetic operations between equal-size arrays<br>\n",
    "applies the operation element-wise:"
   ]
  },
  {
   "cell_type": "code",
   "execution_count": 12,
   "id": "aa6f6e5a-c554-4621-b063-1d1789531f71",
   "metadata": {},
   "outputs": [
    {
     "data": {
      "text/plain": [
       "array([[1., 2., 3.],\n",
       "       [4., 5., 6.]])"
      ]
     },
     "metadata": {},
     "output_type": "display_data"
    },
    {
     "data": {
      "text/plain": [
       "array([[ 1.,  4.,  9.],\n",
       "       [16., 25., 36.]])"
      ]
     },
     "metadata": {},
     "output_type": "display_data"
    },
    {
     "data": {
      "text/plain": [
       "array([[0., 0., 0.],\n",
       "       [0., 0., 0.]])"
      ]
     },
     "metadata": {},
     "output_type": "display_data"
    }
   ],
   "source": [
    "arr = np.array([[1.,2.,3.], [4., 5.,6.]])\n",
    "display(arr) \n",
    "display(arr*arr)\n",
    "display(arr-arr)"
   ]
  },
  {
   "cell_type": "markdown",
   "id": "eb5a78fe-5e33-44eb-aca4-a58a91429dc8",
   "metadata": {},
   "source": [
    "Arithmetic operations with scalars propagate the scalar argument to each element in the array:"
   ]
  },
  {
   "cell_type": "code",
   "execution_count": 13,
   "id": "37a7de53-d76b-47cb-b7e7-a3e4cf59dfbc",
   "metadata": {},
   "outputs": [
    {
     "data": {
      "text/plain": [
       "array([[1.        , 0.5       , 0.33333333],\n",
       "       [0.25      , 0.2       , 0.16666667]])"
      ]
     },
     "metadata": {},
     "output_type": "display_data"
    },
    {
     "data": {
      "text/plain": [
       "array([[1.        , 1.41421356, 1.73205081],\n",
       "       [2.        , 2.23606798, 2.44948974]])"
      ]
     },
     "metadata": {},
     "output_type": "display_data"
    }
   ],
   "source": [
    "display(1/arr)\n",
    "display(arr**0.5)"
   ]
  },
  {
   "cell_type": "markdown",
   "id": "1662902a-5756-405c-89fd-37cf1c0b321d",
   "metadata": {},
   "source": [
    "Comparisons betweena arrays of the same size yield boolean arrays:"
   ]
  },
  {
   "cell_type": "code",
   "execution_count": 14,
   "id": "b10c420d-d60c-4577-be0e-a3d5b27dbe60",
   "metadata": {},
   "outputs": [
    {
     "data": {
      "text/plain": [
       "array([[ 0.,  4.,  1.],\n",
       "       [ 7.,  2., 12.]])"
      ]
     },
     "metadata": {},
     "output_type": "display_data"
    },
    {
     "data": {
      "text/plain": [
       "array([[False,  True, False],\n",
       "       [ True, False,  True]])"
      ]
     },
     "execution_count": 14,
     "metadata": {},
     "output_type": "execute_result"
    }
   ],
   "source": [
    "arr2 = np.array([[0., 4., 1.], [7., 2., 12.]])\n",
    "display(arr2)\n",
    "arr2 > arr"
   ]
  },
  {
   "cell_type": "markdown",
   "id": "8d7bccf7-050f-4fcd-be1f-ce131b1e64de",
   "metadata": {},
   "source": [
    "Evaluating operation between differently sized arrays is called _broadcasting_ and will be discussed more detail in Appendix A.<br>\n",
    "#### Basic Indexing and Sling\n",
    "One-dimensional arrays are simple on the surface they act similarly to Python list:"
   ]
  },
  {
   "cell_type": "code",
   "execution_count": 15,
   "id": "43277256-eaad-44a2-9ada-fea4b502a091",
   "metadata": {},
   "outputs": [
    {
     "data": {
      "text/plain": [
       "array([0, 1, 2, 3, 4, 5, 6, 7, 8, 9])"
      ]
     },
     "metadata": {},
     "output_type": "display_data"
    },
    {
     "data": {
      "text/plain": [
       "5"
      ]
     },
     "metadata": {},
     "output_type": "display_data"
    },
    {
     "data": {
      "text/plain": [
       "array([5, 6, 7])"
      ]
     },
     "metadata": {},
     "output_type": "display_data"
    },
    {
     "data": {
      "text/plain": [
       "array([ 0,  1,  2,  3,  4, 12, 12, 12,  8,  9])"
      ]
     },
     "metadata": {},
     "output_type": "display_data"
    }
   ],
   "source": [
    "arr = np.arange(10)\n",
    "display(arr)\n",
    "display(arr[5])\n",
    "display(arr[5:8])\n",
    "arr[5:8] = 12\n",
    "display(arr)\n"
   ]
  },
  {
   "cell_type": "markdown",
   "id": "4fe8ef7b-ca4d-4516-93b2-a39c1fd742be",
   "metadata": {},
   "source": [
    "Where arr[5:8] = 12, the value is _broadcasted_ to the entire selection. An important distinction from Python's built-in lists is that array <br>\n",
    "slices are views on the original array. This means that the data is not copied, and any modifications to the view will be reflected in the source<br>\n",
    "array. For example:"
   ]
  },
  {
   "cell_type": "code",
   "execution_count": 16,
   "id": "4bd4e055-299d-4009-a480-3f1b59739b7b",
   "metadata": {},
   "outputs": [
    {
     "data": {
      "text/plain": [
       "array([12, 12, 12])"
      ]
     },
     "execution_count": 16,
     "metadata": {},
     "output_type": "execute_result"
    }
   ],
   "source": [
    "arr_slice = arr[5:8]\n",
    "arr_slice"
   ]
  },
  {
   "cell_type": "markdown",
   "id": "b153bf00-2d86-4b14-a963-7e5dd76050f8",
   "metadata": {},
   "source": [
    "Now, when I change values in __arr_slice__, the mutations are reflected in the original array __arr__:"
   ]
  },
  {
   "cell_type": "code",
   "execution_count": 17,
   "id": "c4eb6469-a265-4be3-897b-7b88a2df06b1",
   "metadata": {},
   "outputs": [
    {
     "data": {
      "text/plain": [
       "array([ 0,  1,  2,  3,  4, 12, 12, 12,  8,  9])"
      ]
     },
     "execution_count": 17,
     "metadata": {},
     "output_type": "execute_result"
    }
   ],
   "source": [
    "arr"
   ]
  },
  {
   "cell_type": "code",
   "execution_count": 18,
   "id": "16e8de60-2cba-4a7f-ab99-254cfe505976",
   "metadata": {},
   "outputs": [
    {
     "data": {
      "text/plain": [
       "array([    0,     1,     2,     3,     4,    12, 12345,    12,     8,\n",
       "           9])"
      ]
     },
     "execution_count": 18,
     "metadata": {},
     "output_type": "execute_result"
    }
   ],
   "source": [
    "arr_slice[1] = 12345\n",
    "arr"
   ]
  },
  {
   "cell_type": "markdown",
   "id": "b6797d2c-cbfb-4b39-8008-179b25557896",
   "metadata": {},
   "source": [
    "The \"bare\" slice [:] will assign to all values in an array:"
   ]
  },
  {
   "cell_type": "code",
   "execution_count": 19,
   "id": "2b975264-817a-4a6c-97b3-688effd8a73e",
   "metadata": {},
   "outputs": [
    {
     "data": {
      "text/plain": [
       "array([ 0,  1,  2,  3,  4, 64, 64, 64,  8,  9])"
      ]
     },
     "execution_count": 19,
     "metadata": {},
     "output_type": "execute_result"
    }
   ],
   "source": [
    "arr_slice[:] = 64\n",
    "arr"
   ]
  },
  {
   "cell_type": "markdown",
   "id": "64e552aa-cca8-45b4-91ef-8963cf450ddc",
   "metadata": {},
   "source": [
    "With higher dimensional arrays, you have many more options. In a two-dimensional array, the elements at each index are no longer scalars but <br>\n",
    "rather one-dimensional arrays:"
   ]
  },
  {
   "cell_type": "code",
   "execution_count": 20,
   "id": "82e11772-e89a-4990-a596-fd6cec7b7919",
   "metadata": {},
   "outputs": [
    {
     "data": {
      "text/plain": [
       "array([7, 8, 9])"
      ]
     },
     "execution_count": 20,
     "metadata": {},
     "output_type": "execute_result"
    }
   ],
   "source": [
    "arr2d = np.array([[1, 2, 3], [4, 5, 6], [7, 8, 9]])\n",
    "arr2d[2]"
   ]
  },
  {
   "cell_type": "markdown",
   "id": "93656130-5389-4cd9-a08d-2ae50e8a88fe",
   "metadata": {},
   "source": [
    "Individual elements can be accessed recursively. But that is a bit too much work, so you can pass a comma-separated list of indices to select<br> \n",
    "individual elements."
   ]
  },
  {
   "cell_type": "code",
   "execution_count": 21,
   "id": "2dc67e9f-802a-49d2-94d9-373390c6902b",
   "metadata": {},
   "outputs": [
    {
     "data": {
      "text/plain": [
       "3"
      ]
     },
     "execution_count": 21,
     "metadata": {},
     "output_type": "execute_result"
    }
   ],
   "source": [
    "arr2d[0][2]"
   ]
  },
  {
   "cell_type": "code",
   "execution_count": 22,
   "id": "db39f022-ae41-4d9d-a540-a45a3d68dc39",
   "metadata": {},
   "outputs": [
    {
     "data": {
      "text/plain": [
       "3"
      ]
     },
     "execution_count": 22,
     "metadata": {},
     "output_type": "execute_result"
    }
   ],
   "source": [
    "arr2d[0][2]"
   ]
  },
  {
   "cell_type": "markdown",
   "id": "4405ba72-25b2-44ac-8b5b-6f7637978b41",
   "metadata": {},
   "source": [
    "In multidimensional arrays, if you omit later indices, the return object will be a lower dimensional ndarray consisting of all the data along the higher dimensions. So in the 2 x 2 x 3 array arr3d:"
   ]
  },
  {
   "cell_type": "code",
   "execution_count": 23,
   "id": "daf7e9c0-0112-437b-8914-d34e5d02e3c9",
   "metadata": {},
   "outputs": [
    {
     "data": {
      "text/plain": [
       "array([[[ 1,  2,  3],\n",
       "        [ 4,  5,  6]],\n",
       "\n",
       "       [[ 7,  8,  9],\n",
       "        [10, 11, 12]]])"
      ]
     },
     "execution_count": 23,
     "metadata": {},
     "output_type": "execute_result"
    }
   ],
   "source": [
    "arr3d = np.array([[[1,2,3], [4, 5, 6]], [[7, 8, 9], [10, 11, 12,]]])\n",
    "arr3d"
   ]
  },
  {
   "cell_type": "markdown",
   "id": "f5485fb9-326b-4352-a263-2f22cf4fba50",
   "metadata": {},
   "source": [
    "arr3d[0] is a 2x3 array:"
   ]
  },
  {
   "cell_type": "code",
   "execution_count": 24,
   "id": "09ad59e3-4283-4cf0-a8e9-69cf3008863b",
   "metadata": {},
   "outputs": [
    {
     "data": {
      "text/plain": [
       "array([[1, 2, 3],\n",
       "       [4, 5, 6]])"
      ]
     },
     "execution_count": 24,
     "metadata": {},
     "output_type": "execute_result"
    }
   ],
   "source": [
    "arr3d[0]"
   ]
  },
  {
   "cell_type": "markdown",
   "id": "36131aaf-098e-4887-ad82-1e54ae496f65",
   "metadata": {},
   "source": [
    "Both scalar values and arrays can be assigned to arr3d[0]:"
   ]
  },
  {
   "cell_type": "code",
   "execution_count": 30,
   "id": "0e9ac25b-14c6-4fe1-a22c-69dff6447d86",
   "metadata": {},
   "outputs": [
    {
     "data": {
      "text/plain": [
       "array([[[42, 42, 42],\n",
       "        [42, 42, 42]],\n",
       "\n",
       "       [[ 7,  8,  9],\n",
       "        [10, 11, 12]]])"
      ]
     },
     "execution_count": 30,
     "metadata": {},
     "output_type": "execute_result"
    }
   ],
   "source": [
    "old_values = arr3d[0].copy()\n",
    "arr3d[0] = 42\n",
    "arr3d"
   ]
  },
  {
   "cell_type": "code",
   "execution_count": 31,
   "id": "99a43ea7-3365-4c2a-898b-f148a51b7fe0",
   "metadata": {},
   "outputs": [
    {
     "data": {
      "text/plain": [
       "array([[[ 1,  2,  3],\n",
       "        [ 4,  5,  6]],\n",
       "\n",
       "       [[ 7,  8,  9],\n",
       "        [10, 11, 12]]])"
      ]
     },
     "execution_count": 31,
     "metadata": {},
     "output_type": "execute_result"
    }
   ],
   "source": [
    "arr3d[0] = old_values\n",
    "arr3d"
   ]
  },
  {
   "cell_type": "markdown",
   "id": "93b44113-f8dc-4d11-9029-71bc9e85869c",
   "metadata": {},
   "source": [
    "Similarly arr3d[1,0] gives you all of the values whose indices start with (1,0), forming a 1-dimensional array:"
   ]
  },
  {
   "cell_type": "code",
   "execution_count": 32,
   "id": "839b9f6b-8c28-4fab-9ef1-0171d6b25517",
   "metadata": {},
   "outputs": [
    {
     "data": {
      "text/plain": [
       "array([7, 8, 9])"
      ]
     },
     "execution_count": 32,
     "metadata": {},
     "output_type": "execute_result"
    }
   ],
   "source": [
    "arr3d[1,0]"
   ]
  },
  {
   "cell_type": "markdown",
   "id": "87d6289a-304d-4c73-8380-880b1b05264d",
   "metadata": {},
   "source": [
    "This expression is the same as though we had indexed in two steps:"
   ]
  },
  {
   "cell_type": "code",
   "execution_count": 33,
   "id": "41fc91ef-c33e-47e0-a2a0-c1d1f53b16fe",
   "metadata": {},
   "outputs": [
    {
     "data": {
      "text/plain": [
       "array([[ 7,  8,  9],\n",
       "       [10, 11, 12]])"
      ]
     },
     "execution_count": 33,
     "metadata": {},
     "output_type": "execute_result"
    }
   ],
   "source": [
    "x = arr3d[1]\n",
    "x"
   ]
  },
  {
   "cell_type": "code",
   "execution_count": 34,
   "id": "e8eac21d-524a-4e80-8838-e908197de03b",
   "metadata": {},
   "outputs": [
    {
     "data": {
      "text/plain": [
       "array([7, 8, 9])"
      ]
     },
     "execution_count": 34,
     "metadata": {},
     "output_type": "execute_result"
    }
   ],
   "source": [
    "x[0]"
   ]
  },
  {
   "cell_type": "markdown",
   "id": "9e2fd922-74b6-4552-8452-894d0c6a66a6",
   "metadata": {},
   "source": [
    "Note that in all of these cases where subsections of the array have been selected, the returned arrays are views. <br>\n",
    "#### Indexing with slices <br>\n",
    "Like one-dimensional objects such as Python lists, ndarrays can be sliced with the familiar syntax:"
   ]
  },
  {
   "cell_type": "code",
   "execution_count": 35,
   "id": "9e2da334-e08a-44f3-b5e3-32415f50582b",
   "metadata": {},
   "outputs": [
    {
     "data": {
      "text/plain": [
       "array([ 0,  1,  2,  3,  4, 64, 64, 64,  8,  9])"
      ]
     },
     "execution_count": 35,
     "metadata": {},
     "output_type": "execute_result"
    }
   ],
   "source": [
    "arr"
   ]
  },
  {
   "cell_type": "code",
   "execution_count": 36,
   "id": "74705ef1-ace9-42d3-88c3-4d5af5409efd",
   "metadata": {},
   "outputs": [
    {
     "data": {
      "text/plain": [
       "array([ 1,  2,  3,  4, 64])"
      ]
     },
     "execution_count": 36,
     "metadata": {},
     "output_type": "execute_result"
    }
   ],
   "source": [
    "arr[1:6]"
   ]
  },
  {
   "cell_type": "markdown",
   "id": "19e18c5a-4335-4bc0-ab03-ed03c1778490",
   "metadata": {},
   "source": [
    "Consider the two-dimensional array from before, arr2d. Slicing this array is a bit different:"
   ]
  },
  {
   "cell_type": "code",
   "execution_count": 37,
   "id": "a185c77d-531d-4ccb-9b41-c0807adef8e4",
   "metadata": {},
   "outputs": [
    {
     "data": {
      "text/plain": [
       "array([[1, 2, 3],\n",
       "       [4, 5, 6],\n",
       "       [7, 8, 9]])"
      ]
     },
     "execution_count": 37,
     "metadata": {},
     "output_type": "execute_result"
    }
   ],
   "source": [
    "arr2d"
   ]
  },
  {
   "cell_type": "code",
   "execution_count": 38,
   "id": "f9bae888-beb9-4db4-a453-0dc24254a7b8",
   "metadata": {},
   "outputs": [
    {
     "data": {
      "text/plain": [
       "array([[1, 2, 3],\n",
       "       [4, 5, 6]])"
      ]
     },
     "execution_count": 38,
     "metadata": {},
     "output_type": "execute_result"
    }
   ],
   "source": [
    "arr2d[:2]"
   ]
  },
  {
   "cell_type": "markdown",
   "id": "f24c60cf-06f1-46b6-ae0e-b41f34bc3a50",
   "metadata": {},
   "source": [
    "You can pass multiple slices just like you can pass multiple indexes:"
   ]
  },
  {
   "cell_type": "code",
   "execution_count": 39,
   "id": "12a78d23-9289-42b1-bea6-a6f5fdc25b32",
   "metadata": {},
   "outputs": [
    {
     "data": {
      "text/plain": [
       "array([[2, 3],\n",
       "       [5, 6]])"
      ]
     },
     "execution_count": 39,
     "metadata": {},
     "output_type": "execute_result"
    }
   ],
   "source": [
    "arr2d[:2, 1:]"
   ]
  },
  {
   "cell_type": "markdown",
   "id": "af9d3dbe-d15b-44d5-b924-9039684f64c6",
   "metadata": {},
   "source": [
    "When slicing like this, you always obtain array views of the same number of dimensions. By mixing together indexes and slicesm you get lower<br>\n",
    "dimensional slices."
   ]
  },
  {
   "cell_type": "code",
   "execution_count": 40,
   "id": "b1227871-6682-4ae6-ae48-3afb6a92ccf2",
   "metadata": {},
   "outputs": [
    {
     "data": {
      "text/plain": [
       "array([4, 5])"
      ]
     },
     "execution_count": 40,
     "metadata": {},
     "output_type": "execute_result"
    }
   ],
   "source": [
    "arr2d[1, :2]"
   ]
  },
  {
   "cell_type": "markdown",
   "id": "2a435691-65a9-4be1-b348-8ee26eda2f1e",
   "metadata": {},
   "source": [
    "Of course, assigning to a slice expression assigns to the whole selection:"
   ]
  },
  {
   "cell_type": "code",
   "execution_count": 42,
   "id": "78a8873f-7846-49e5-b10a-57686a8f3cf4",
   "metadata": {},
   "outputs": [
    {
     "data": {
      "text/plain": [
       "array([[1, 0, 0],\n",
       "       [4, 0, 0],\n",
       "       [7, 8, 9]])"
      ]
     },
     "execution_count": 42,
     "metadata": {},
     "output_type": "execute_result"
    }
   ],
   "source": [
    "arr2d[:2, 1:] = 0\n",
    "arr2d"
   ]
  },
  {
   "cell_type": "markdown",
   "id": "36d0e12d-5bb5-4d37-8645-eb4272aa726d",
   "metadata": {},
   "source": [
    "#### Boolean Indexing\n",
    "Let's consider an example where we have some data in an array and an array of names with duplicates. I'm going to use here the __rand__ function <br>\n",
    "in __numpy.random__ to generate some random normally distributed data:"
   ]
  },
  {
   "cell_type": "code",
   "execution_count": 46,
   "id": "657f69dd-a3ba-4e68-b2c0-2ea1c1153f6c",
   "metadata": {},
   "outputs": [
    {
     "data": {
      "text/plain": [
       "array([[ 0.75398668, -0.18909075, -0.67957596,  2.36640061],\n",
       "       [-0.18587135, -1.11334457,  2.44613276,  0.3083002 ],\n",
       "       [-0.50792444, -0.67220222, -0.65253411, -1.36195853],\n",
       "       [-0.31842426,  0.14191011, -1.38408929, -0.78362687],\n",
       "       [ 0.38259099,  0.34495639,  0.82344222, -0.80749555],\n",
       "       [ 0.70298264, -0.18893257, -0.77990613, -0.5230792 ],\n",
       "       [-0.26046985,  2.25560693,  0.03335464, -1.09221324]])"
      ]
     },
     "execution_count": 46,
     "metadata": {},
     "output_type": "execute_result"
    }
   ],
   "source": [
    "names = np.array(['Bob', 'Joe','Will', 'Bob', 'Will', 'Joe', 'Joe'])\n",
    "data = np.random.randn(7,4)\n",
    "data"
   ]
  },
  {
   "cell_type": "markdown",
   "id": "3bebfede-0bc7-45e5-acf9-316bf7d992c4",
   "metadata": {},
   "source": [
    "Suppose each name corresponds to a row in the data array and we wanted to select all the rows with corresponding name 'Bob'. Like arithmetic <br>\n",
    "operations, comparisons (such as ==) with arrays are also vectorized. Thus, comparing names with the string 'Bob' yields a boolean array:"
   ]
  },
  {
   "cell_type": "code",
   "execution_count": 47,
   "id": "08997b6b-22c0-439f-991e-fbe0f552bcee",
   "metadata": {},
   "outputs": [
    {
     "data": {
      "text/plain": [
       "array([ True, False, False,  True, False, False, False])"
      ]
     },
     "execution_count": 47,
     "metadata": {},
     "output_type": "execute_result"
    }
   ],
   "source": [
    "names =='Bob'"
   ]
  },
  {
   "cell_type": "markdown",
   "id": "ab4d7190-2116-42da-b3df-6b0acd61398d",
   "metadata": {},
   "source": [
    "This boolean array can be bassed when indexing the array:"
   ]
  },
  {
   "cell_type": "code",
   "execution_count": 48,
   "id": "2ea2af62-74d4-4a51-8b41-22648d3ef95d",
   "metadata": {},
   "outputs": [
    {
     "data": {
      "text/plain": [
       "array([[ 0.75398668, -0.18909075, -0.67957596,  2.36640061],\n",
       "       [-0.31842426,  0.14191011, -1.38408929, -0.78362687]])"
      ]
     },
     "execution_count": 48,
     "metadata": {},
     "output_type": "execute_result"
    }
   ],
   "source": [
    "data[names=='Bob']"
   ]
  },
  {
   "cell_type": "markdown",
   "id": "07a76012-f6b5-4517-8ee1-f8fabcd12cad",
   "metadata": {},
   "source": [
    "The boolean array must be the same length as the array axis it's indexing. You can even mix and match boolean arrays with slices or intergers. <br>\n",
    "<br>\n",
    "In these examples, I select from the rows where names == 'Bob' and index the columns, too:"
   ]
  },
  {
   "cell_type": "code",
   "execution_count": 49,
   "id": "d84c149a-2376-4547-9a93-c56a7f346c40",
   "metadata": {},
   "outputs": [
    {
     "data": {
      "text/plain": [
       "array([[-0.67957596,  2.36640061],\n",
       "       [-1.38408929, -0.78362687]])"
      ]
     },
     "execution_count": 49,
     "metadata": {},
     "output_type": "execute_result"
    }
   ],
   "source": [
    "data[names == 'Bob', 2:]"
   ]
  },
  {
   "cell_type": "code",
   "execution_count": 50,
   "id": "75c2a8b0-2992-4b94-9f58-3d3441ced76d",
   "metadata": {},
   "outputs": [
    {
     "data": {
      "text/plain": [
       "array([ 2.36640061, -0.78362687])"
      ]
     },
     "execution_count": 50,
     "metadata": {},
     "output_type": "execute_result"
    }
   ],
   "source": [
    "data[names== 'Bob', 3]"
   ]
  },
  {
   "cell_type": "markdown",
   "id": "39e3c509-772f-4d7e-8f78-8e9d7507514b",
   "metadata": {},
   "source": [
    "To select everything but 'Bob', you can either use != or negate the condition using ~:"
   ]
  },
  {
   "cell_type": "code",
   "execution_count": 51,
   "id": "2da878e8-7ccd-4f5c-ad1a-e569009dd2dc",
   "metadata": {},
   "outputs": [
    {
     "data": {
      "text/plain": [
       "array([False,  True,  True, False,  True,  True,  True])"
      ]
     },
     "execution_count": 51,
     "metadata": {},
     "output_type": "execute_result"
    }
   ],
   "source": [
    "names != 'Bob'"
   ]
  },
  {
   "cell_type": "code",
   "execution_count": 52,
   "id": "8013dde9-de3d-4d82-adfa-3ba29ef3d8df",
   "metadata": {},
   "outputs": [
    {
     "data": {
      "text/plain": [
       "array([[-0.18587135, -1.11334457,  2.44613276,  0.3083002 ],\n",
       "       [-0.50792444, -0.67220222, -0.65253411, -1.36195853],\n",
       "       [ 0.38259099,  0.34495639,  0.82344222, -0.80749555],\n",
       "       [ 0.70298264, -0.18893257, -0.77990613, -0.5230792 ],\n",
       "       [-0.26046985,  2.25560693,  0.03335464, -1.09221324]])"
      ]
     },
     "execution_count": 52,
     "metadata": {},
     "output_type": "execute_result"
    }
   ],
   "source": [
    "data[~(names=='Bob')]"
   ]
  },
  {
   "cell_type": "markdown",
   "id": "43dae728-4c4d-4b5a-a636-7545082ea9b6",
   "metadata": {},
   "source": [
    "The ~ operator can be useful when you want to invert a general condition. <br>\n",
    "<br>\n",
    "Selecting two of the threee names to combine multiple boolean conditions, use boolean arithmetic operators like & (and) and | (or):"
   ]
  },
  {
   "cell_type": "code",
   "execution_count": 54,
   "id": "33170451-5cc3-4a46-95d8-a53818958ecc",
   "metadata": {},
   "outputs": [
    {
     "data": {
      "text/plain": [
       "array([ True, False,  True,  True,  True, False, False])"
      ]
     },
     "execution_count": 54,
     "metadata": {},
     "output_type": "execute_result"
    }
   ],
   "source": [
    "mask = (names == 'Bob') | (names == 'Will')\n",
    "mask"
   ]
  },
  {
   "cell_type": "code",
   "execution_count": 55,
   "id": "0485e8b5-5b43-4e1e-ac7f-7c717fb482f8",
   "metadata": {},
   "outputs": [
    {
     "data": {
      "text/plain": [
       "array([[ 0.75398668, -0.18909075, -0.67957596,  2.36640061],\n",
       "       [-0.50792444, -0.67220222, -0.65253411, -1.36195853],\n",
       "       [-0.31842426,  0.14191011, -1.38408929, -0.78362687],\n",
       "       [ 0.38259099,  0.34495639,  0.82344222, -0.80749555]])"
      ]
     },
     "execution_count": 55,
     "metadata": {},
     "output_type": "execute_result"
    }
   ],
   "source": [
    "data[mask]"
   ]
  },
  {
   "cell_type": "markdown",
   "id": "1ebbe8e2-a90e-4c0b-be4b-60fa631ffd62",
   "metadata": {},
   "source": [
    "Selecting data from an array by boolean indexing always creates a copy of the data, even if the returned array is unchanged. <br>\n",
    "<br>\n",
    "Setting values with boolean arrays works in a common-sense way. To set all of the negative values in data to 0 we need only do:"
   ]
  },
  {
   "cell_type": "code",
   "execution_count": 56,
   "id": "312d6129-8d34-4611-87e4-4707fc22e1b2",
   "metadata": {},
   "outputs": [
    {
     "data": {
      "text/plain": [
       "array([[0.75398668, 0.        , 0.        , 2.36640061],\n",
       "       [0.        , 0.        , 2.44613276, 0.3083002 ],\n",
       "       [0.        , 0.        , 0.        , 0.        ],\n",
       "       [0.        , 0.14191011, 0.        , 0.        ],\n",
       "       [0.38259099, 0.34495639, 0.82344222, 0.        ],\n",
       "       [0.70298264, 0.        , 0.        , 0.        ],\n",
       "       [0.        , 2.25560693, 0.03335464, 0.        ]])"
      ]
     },
     "execution_count": 56,
     "metadata": {},
     "output_type": "execute_result"
    }
   ],
   "source": [
    "data[data<0] = 0\n",
    "data"
   ]
  },
  {
   "cell_type": "markdown",
   "id": "6270dfc8-4ba2-454e-a54b-3d831ecbd046",
   "metadata": {},
   "source": [
    "Setting whole rows or columns using a one-dimensional boolean array is also easy:"
   ]
  },
  {
   "cell_type": "code",
   "execution_count": 58,
   "id": "5234e53b-be9c-4277-bcf4-87324eba2274",
   "metadata": {},
   "outputs": [
    {
     "data": {
      "text/plain": [
       "array([[7.        , 7.        , 7.        , 7.        ],\n",
       "       [0.        , 0.        , 2.44613276, 0.3083002 ],\n",
       "       [7.        , 7.        , 7.        , 7.        ],\n",
       "       [7.        , 7.        , 7.        , 7.        ],\n",
       "       [7.        , 7.        , 7.        , 7.        ],\n",
       "       [0.70298264, 0.        , 0.        , 0.        ],\n",
       "       [0.        , 2.25560693, 0.03335464, 0.        ]])"
      ]
     },
     "execution_count": 58,
     "metadata": {},
     "output_type": "execute_result"
    }
   ],
   "source": [
    "data[names!= 'Joe'] = 7\n",
    "data"
   ]
  },
  {
   "cell_type": "markdown",
   "id": "281557c1-3c7e-4631-88f1-0b9c4a890b99",
   "metadata": {},
   "source": [
    "#### Fancy Indexing\n",
    "_Fancy indexing_ is a term adopted by NumPy to describe indexing using integer arrays. Suppose we had a 8x4 array:"
   ]
  },
  {
   "cell_type": "code",
   "execution_count": 60,
   "id": "5566f3d5-da2d-4d8c-adbc-727af4263762",
   "metadata": {},
   "outputs": [
    {
     "data": {
      "text/plain": [
       "array([[0., 0., 0., 0.],\n",
       "       [1., 1., 1., 1.],\n",
       "       [2., 2., 2., 2.],\n",
       "       [3., 3., 3., 3.],\n",
       "       [4., 4., 4., 4.],\n",
       "       [5., 5., 5., 5.],\n",
       "       [6., 6., 6., 6.],\n",
       "       [7., 7., 7., 7.]])"
      ]
     },
     "execution_count": 60,
     "metadata": {},
     "output_type": "execute_result"
    }
   ],
   "source": [
    "arr = np.empty((8,4))\n",
    "for i in range(8):\n",
    "    arr[i] = i\n",
    "arr"
   ]
  },
  {
   "cell_type": "markdown",
   "id": "139e8600-3a64-4535-83bd-bbe2634b321d",
   "metadata": {},
   "source": [
    "To select out fo a subset of the rows in a particular order, you can simply pass a list or ndarray of intergers specifying the desired order:"
   ]
  },
  {
   "cell_type": "code",
   "execution_count": 61,
   "id": "e5412625-8f30-4d93-9088-89d083d483ed",
   "metadata": {},
   "outputs": [
    {
     "data": {
      "text/plain": [
       "array([[4., 4., 4., 4.],\n",
       "       [3., 3., 3., 3.],\n",
       "       [0., 0., 0., 0.],\n",
       "       [6., 6., 6., 6.]])"
      ]
     },
     "execution_count": 61,
     "metadata": {},
     "output_type": "execute_result"
    }
   ],
   "source": [
    "arr[[4, 3, 0, 6]]"
   ]
  },
  {
   "cell_type": "markdown",
   "id": "8e57fc8b-7eb1-4ffc-a525-23768258a478",
   "metadata": {},
   "source": [
    "Using negative indices selects from the end:"
   ]
  },
  {
   "cell_type": "code",
   "execution_count": 63,
   "id": "0f739e5b-4319-497b-b1c2-bd3b91b3de5d",
   "metadata": {},
   "outputs": [
    {
     "data": {
      "text/plain": [
       "array([[5., 5., 5., 5.],\n",
       "       [3., 3., 3., 3.],\n",
       "       [1., 1., 1., 1.]])"
      ]
     },
     "execution_count": 63,
     "metadata": {},
     "output_type": "execute_result"
    }
   ],
   "source": [
    "arr[[-3, -5, -7]]"
   ]
  },
  {
   "cell_type": "markdown",
   "id": "2ebc74af-d0bb-4041-967c-18a851e426ba",
   "metadata": {},
   "source": [
    "Passing multiple index arrays does something slightly different; it selects a one dimensional array of elements corresponding to each tuple of<br>\n",
    "indices:"
   ]
  },
  {
   "cell_type": "code",
   "execution_count": 64,
   "id": "409c783b-2689-4252-ab38-02f821e43e3d",
   "metadata": {},
   "outputs": [
    {
     "data": {
      "text/plain": [
       "array([[ 0,  1,  2,  3],\n",
       "       [ 4,  5,  6,  7],\n",
       "       [ 8,  9, 10, 11],\n",
       "       [12, 13, 14, 15],\n",
       "       [16, 17, 18, 19],\n",
       "       [20, 21, 22, 23],\n",
       "       [24, 25, 26, 27],\n",
       "       [28, 29, 30, 31]])"
      ]
     },
     "execution_count": 64,
     "metadata": {},
     "output_type": "execute_result"
    }
   ],
   "source": [
    "arr = np.arange(32).reshape((8,4))\n",
    "arr"
   ]
  },
  {
   "cell_type": "code",
   "execution_count": 65,
   "id": "b0270f72-cb7a-44e4-a8be-b7fc8431ef57",
   "metadata": {},
   "outputs": [
    {
     "data": {
      "text/plain": [
       "array([ 4, 23, 29, 10])"
      ]
     },
     "execution_count": 65,
     "metadata": {},
     "output_type": "execute_result"
    }
   ],
   "source": [
    "arr[[1,5,7,2], [0,3,1,2]]"
   ]
  },
  {
   "cell_type": "markdown",
   "id": "98658b18-42d9-448c-b015-f6c420f7cdc6",
   "metadata": {},
   "source": [
    "Regardless of how many dimensions the array has (here, only 2), the result of fancy indexing with multiple integer arrays is always one-<br>\n",
    "dimensional. <br>\n",
    "<br>\n",
    "The behavior of fancy indexing in this case is a bit different from what some users might have expected, which is the rectangular region formed by<br>\n",
    "selecting a subset of the matrix's rows and columns. Here is one way to get that:"
   ]
  },
  {
   "cell_type": "code",
   "execution_count": 70,
   "id": "235263ef-645e-40e5-8290-dd436ec98306",
   "metadata": {},
   "outputs": [
    {
     "data": {
      "text/plain": [
       "array([[ 4,  7,  5,  6],\n",
       "       [20, 23, 21, 22],\n",
       "       [28, 31, 29, 30],\n",
       "       [ 8, 11,  9, 10]])"
      ]
     },
     "execution_count": 70,
     "metadata": {},
     "output_type": "execute_result"
    }
   ],
   "source": [
    "arr[[1,5,7,2]][:,[0, 3, 1,2]]"
   ]
  },
  {
   "cell_type": "markdown",
   "id": "01b8df9f-1ef0-4ca9-abd6-df658b2c503a",
   "metadata": {},
   "source": [
    "Keep in mind that fancy indexing, unlike slicing, always copies the data into a new array. <br>\n",
    "#### Transporting Arrays and Swapping Axes\n",
    "Transporting is a special form of reshaping that similarly returns a view on the underlying data without copying anything. Arrays have the <br>\n",
    "transpose method and also the special T attribute:"
   ]
  },
  {
   "cell_type": "code",
   "execution_count": 75,
   "id": "a338183d-1639-469e-96ff-185f77f71670",
   "metadata": {},
   "outputs": [
    {
     "data": {
      "text/plain": [
       "array([[ 0,  1,  2,  3,  4],\n",
       "       [ 5,  6,  7,  8,  9],\n",
       "       [10, 11, 12, 13, 14]])"
      ]
     },
     "execution_count": 75,
     "metadata": {},
     "output_type": "execute_result"
    }
   ],
   "source": [
    "arr = np.arange(15).reshape((3,5))\n",
    "arr"
   ]
  },
  {
   "cell_type": "code",
   "execution_count": 76,
   "id": "c753eab7-8b35-4a37-874c-67c18c8f2df3",
   "metadata": {},
   "outputs": [
    {
     "data": {
      "text/plain": [
       "array([[ 0,  5, 10],\n",
       "       [ 1,  6, 11],\n",
       "       [ 2,  7, 12],\n",
       "       [ 3,  8, 13],\n",
       "       [ 4,  9, 14]])"
      ]
     },
     "execution_count": 76,
     "metadata": {},
     "output_type": "execute_result"
    }
   ],
   "source": [
    "arr.T"
   ]
  },
  {
   "cell_type": "markdown",
   "id": "4b6bf5e7-1de8-45b4-a748-ecc5551f71fc",
   "metadata": {},
   "source": [
    "When doing matrix computations, you may do this very often - for example, when computing the inner matrix product using __np.dot__:"
   ]
  },
  {
   "cell_type": "code",
   "execution_count": 78,
   "id": "d93668eb-1b6b-4f68-9e82-b61d6f4d4603",
   "metadata": {},
   "outputs": [
    {
     "data": {
      "text/plain": [
       "array([[-0.79171851,  0.67120852, -0.04288797],\n",
       "       [-0.80064417,  0.50463608,  1.38480094],\n",
       "       [-1.2293575 , -0.07048092,  0.21104724],\n",
       "       [-0.05041581,  1.45442821,  0.59787966],\n",
       "       [-0.58593549, -0.25584698,  0.27511317],\n",
       "       [ 0.29493137,  0.82808258, -1.02521925]])"
      ]
     },
     "execution_count": 78,
     "metadata": {},
     "output_type": "execute_result"
    }
   ],
   "source": [
    "arr = np.random.randn(6,3)\n",
    "arr"
   ]
  },
  {
   "cell_type": "code",
   "execution_count": 79,
   "id": "b8f092c8-d0be-4f2d-89cd-5a87a341bf89",
   "metadata": {},
   "outputs": [
    {
     "data": {
      "text/plain": [
       "array([[ 3.21201581, -0.52798472, -1.82794058],\n",
       "       [-0.52798472,  3.57668586,  0.60537892],\n",
       "       [-1.82794058,  0.60537892,  3.4482758 ]])"
      ]
     },
     "execution_count": 79,
     "metadata": {},
     "output_type": "execute_result"
    }
   ],
   "source": [
    "np.dot(arr.T,arr)"
   ]
  },
  {
   "cell_type": "markdown",
   "id": "17ea50d7-3d9c-49c1-aba0-e9014183143c",
   "metadata": {},
   "source": [
    "For higher dimensional arrays, transpose will accept a tuple of axis numbers to permute the axes (for extra mind bending):"
   ]
  },
  {
   "cell_type": "code",
   "execution_count": 91,
   "id": "ea14c08c-a8c7-4e14-a858-6b770a53c4b8",
   "metadata": {},
   "outputs": [
    {
     "data": {
      "text/plain": [
       "array([[[ 0,  1,  2,  3],\n",
       "        [ 4,  5,  6,  7]],\n",
       "\n",
       "       [[ 8,  9, 10, 11],\n",
       "        [12, 13, 14, 15]]])"
      ]
     },
     "execution_count": 91,
     "metadata": {},
     "output_type": "execute_result"
    }
   ],
   "source": [
    "arr = np.arange(16).reshape((2, 2, 4))\n",
    "arr"
   ]
  },
  {
   "cell_type": "code",
   "execution_count": 92,
   "id": "7cdd6985-62c6-48df-8f7c-8ae482758670",
   "metadata": {},
   "outputs": [
    {
     "data": {
      "text/plain": [
       "array([[[ 0,  1,  2,  3],\n",
       "        [ 8,  9, 10, 11]],\n",
       "\n",
       "       [[ 4,  5,  6,  7],\n",
       "        [12, 13, 14, 15]]])"
      ]
     },
     "execution_count": 92,
     "metadata": {},
     "output_type": "execute_result"
    }
   ],
   "source": [
    "arr.transpose((1,0,2))"
   ]
  },
  {
   "cell_type": "markdown",
   "id": "bcf1ddc1-fadb-45b2-94a3-9315396465ee",
   "metadata": {},
   "source": []
  }
 ],
 "metadata": {
  "kernelspec": {
   "display_name": "Python 3 (ipykernel)",
   "language": "python",
   "name": "python3"
  },
  "language_info": {
   "codemirror_mode": {
    "name": "ipython",
    "version": 3
   },
   "file_extension": ".py",
   "mimetype": "text/x-python",
   "name": "python",
   "nbconvert_exporter": "python",
   "pygments_lexer": "ipython3",
   "version": "3.9.7"
  }
 },
 "nbformat": 4,
 "nbformat_minor": 5
}
