{
 "cells": [
  {
   "cell_type": "markdown",
   "id": "f922e33d-fadb-4d08-8b60-26021c01bdc1",
   "metadata": {},
   "source": [
    "## 4.2 Universal Functions: Fast Element-Wise Array Functions\n",
    "A universal function, or _ufunc_, is a function that performs element wise operations on data in ndarrays. You think of them as fast vectorized<br>\n",
    "wrappers for simple functions that take one or more scalar values and produce one or more scalar results.<br>\n",
    "<br>\n",
    "Many ufuncs are simple element-wise transformations, like __sqrt__ or __exp__:"
   ]
  },
  {
   "cell_type": "code",
   "execution_count": 2,
   "id": "c0e5be7d-cd7d-4482-8d3c-0aa7ee8f6d1b",
   "metadata": {},
   "outputs": [
    {
     "data": {
      "text/plain": [
       "array([0, 1, 2, 3, 4, 5, 6, 7, 8, 9])"
      ]
     },
     "execution_count": 2,
     "metadata": {},
     "output_type": "execute_result"
    }
   ],
   "source": [
    "import numpy as np\n",
    "arr = np.arange(10)\n",
    "arr"
   ]
  },
  {
   "cell_type": "code",
   "execution_count": 3,
   "id": "3bbf5a8a-e0b1-4b41-afd8-3e6907e5ea2a",
   "metadata": {},
   "outputs": [
    {
     "data": {
      "text/plain": [
       "array([0.        , 1.        , 1.41421356, 1.73205081, 2.        ,\n",
       "       2.23606798, 2.44948974, 2.64575131, 2.82842712, 3.        ])"
      ]
     },
     "execution_count": 3,
     "metadata": {},
     "output_type": "execute_result"
    }
   ],
   "source": [
    "np.sqrt(arr)"
   ]
  },
  {
   "cell_type": "code",
   "execution_count": 4,
   "id": "6ae58eee-c3ed-4134-8c4c-c5ebaa2437a1",
   "metadata": {},
   "outputs": [
    {
     "data": {
      "text/plain": [
       "array([1.00000000e+00, 2.71828183e+00, 7.38905610e+00, 2.00855369e+01,\n",
       "       5.45981500e+01, 1.48413159e+02, 4.03428793e+02, 1.09663316e+03,\n",
       "       2.98095799e+03, 8.10308393e+03])"
      ]
     },
     "execution_count": 4,
     "metadata": {},
     "output_type": "execute_result"
    }
   ],
   "source": [
    "np.exp(arr)"
   ]
  },
  {
   "cell_type": "markdown",
   "id": "01271d99-b565-447f-ad8d-dfcb340f72c2",
   "metadata": {},
   "source": [
    "These are referred to as _unary_ ufuncs. Others, such as add or maximum, take two arrays (thus, _binary_ ufuncs) and return a single array as the<br>\n",
    "result:"
   ]
  },
  {
   "cell_type": "code",
   "execution_count": 10,
   "id": "decac7c9-7836-4605-9bcb-c3a74249eed3",
   "metadata": {},
   "outputs": [
    {
     "data": {
      "text/plain": [
       "array([-2.11564743,  0.17754635, -0.2955585 ,  2.23522151,  1.62568532,\n",
       "       -1.00648012, -0.93795044,  1.18300557])"
      ]
     },
     "metadata": {},
     "output_type": "display_data"
    },
    {
     "data": {
      "text/plain": [
       "array([-0.50606847, -1.35134692, -0.50425104, -0.36266509, -0.59527247,\n",
       "        0.87609352,  0.36396871,  0.4514578 ])"
      ]
     },
     "metadata": {},
     "output_type": "display_data"
    }
   ],
   "source": [
    "x = np.random.randn(8)\n",
    "y = np.random.randn(8)\n",
    "display(x)\n",
    "display(y)\n"
   ]
  },
  {
   "cell_type": "code",
   "execution_count": 11,
   "id": "6ad5de21-018c-4133-b49d-9a63cdba8a0d",
   "metadata": {},
   "outputs": [
    {
     "data": {
      "text/plain": [
       "array([-0.50606847,  0.17754635, -0.2955585 ,  2.23522151,  1.62568532,\n",
       "        0.87609352,  0.36396871,  1.18300557])"
      ]
     },
     "execution_count": 11,
     "metadata": {},
     "output_type": "execute_result"
    }
   ],
   "source": [
    "np.maximum(x,y)"
   ]
  },
  {
   "cell_type": "markdown",
   "id": "1b5b3083-464a-4994-9511-6355e8f7859e",
   "metadata": {},
   "source": [
    "numpy.maximum computed the element-wise maximum of the elements in x and y.<br>\n",
    "<br>\n",
    "While not common, a ufunc can return multiple arrays.modf is one example, a vectorized version of the built-in Python divmod; it returns the <br>\n",
    "fractional and integral parts of a floating-point array:"
   ]
  },
  {
   "cell_type": "code",
   "execution_count": 12,
   "id": "9b763af6-b8ab-4d76-8e16-09bfd92a898a",
   "metadata": {},
   "outputs": [
    {
     "data": {
      "text/plain": [
       "array([ 1.69075328,  2.34353032,  7.83017051,  1.76417633,  7.83581414,\n",
       "        7.02678783, 12.40883253])"
      ]
     },
     "execution_count": 12,
     "metadata": {},
     "output_type": "execute_result"
    }
   ],
   "source": [
    "arr = np.random.randn(7)*5\n",
    "arr"
   ]
  },
  {
   "cell_type": "code",
   "execution_count": 14,
   "id": "cb094605-0850-4b05-bbc0-fd67d7e2ae7f",
   "metadata": {},
   "outputs": [
    {
     "data": {
      "text/plain": [
       "array([0.69075328, 0.34353032, 0.83017051, 0.76417633, 0.83581414,\n",
       "       0.02678783, 0.40883253])"
      ]
     },
     "metadata": {},
     "output_type": "display_data"
    },
    {
     "data": {
      "text/plain": [
       "array([ 1.,  2.,  7.,  1.,  7.,  7., 12.])"
      ]
     },
     "metadata": {},
     "output_type": "display_data"
    }
   ],
   "source": [
    "remainder, whole_part = np.modf(arr)\n",
    "display(remainder)\n",
    "display(whole_part)"
   ]
  },
  {
   "cell_type": "markdown",
   "id": "3421d47b-c901-4487-b02b-3af2225a4085",
   "metadata": {},
   "source": [
    "Page.109 for unfunc functions"
   ]
  },
  {
   "cell_type": "code",
   "execution_count": null,
   "id": "ee39d6b4-6902-4627-a20e-815b70d17612",
   "metadata": {},
   "outputs": [],
   "source": []
  }
 ],
 "metadata": {
  "kernelspec": {
   "display_name": "Python 3 (ipykernel)",
   "language": "python",
   "name": "python3"
  },
  "language_info": {
   "codemirror_mode": {
    "name": "ipython",
    "version": 3
   },
   "file_extension": ".py",
   "mimetype": "text/x-python",
   "name": "python",
   "nbconvert_exporter": "python",
   "pygments_lexer": "ipython3",
   "version": "3.9.7"
  }
 },
 "nbformat": 4,
 "nbformat_minor": 5
}
