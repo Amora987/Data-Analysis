{
 "cells": [
  {
   "cell_type": "markdown",
   "id": "b081107e-6ab0-4bea-b744-0b66870c6323",
   "metadata": {},
   "source": [
    "## Chapter 4 NumPy Basics: Arrays and Vectorized Computation\n",
    "For most data analysis applications, the main areas of funcionality:\n",
    "* Fast Vectorized array operations for data munging and cleaning, subsetting and any other kinds of computations.\n",
    "* Common array algorithms like sorting, unique, and set operations. \n",
    "* Efficient descriptive statistics and aggregating/summarizing data.\n",
    "* Data alignment and relation data manipulations for merging and joining together heterogeneous datasets.\n",
    "* Expressing conditional logic as array expressions instead of loops with if-elif-else branches\n",
    "* Group-wise data manipulations (aggregation, transformation, function application)\n",
    "<br>\n",
    "***\n",
    "### 4.1 The NumPy ndarray: A Multidimensional Array Object\n",
    "One of the key features of NumPy is its N-dimensional array object (__ndarray__) which is a fast, flexible container for large datasets in Python.<br>\n",
    "Arrays enable you to perform mathematical operations on whole blocks of data using similar syntax to the equivalent operations between scalar<br> \n",
    "elements. <br>\n",
    "<br>\n",
    "NumPy enables batch computations with similar syntax to scalar values on built-in Python objects, I first import NumPy and generate a small array<br>\n",
    "of random data:"
   ]
  },
  {
   "cell_type": "code",
   "execution_count": 2,
   "id": "a569e8de-d301-4da5-ad8f-2347552c2a6b",
   "metadata": {},
   "outputs": [
    {
     "data": {
      "text/plain": [
       "array([[-0.22546893, -0.5899201 ,  0.47216614],\n",
       "       [ 1.09566851, -0.76248735,  0.01563008]])"
      ]
     },
     "execution_count": 2,
     "metadata": {},
     "output_type": "execute_result"
    }
   ],
   "source": [
    "#Example:\n",
    "import numpy as np\n",
    "\n",
    "#Generate some random data\n",
    "\n",
    "data = np.random.randn(2,3)\n",
    "data"
   ]
  },
  {
   "cell_type": "markdown",
   "id": "dee183b0-b765-4ebf-a00d-f4d74491c14b",
   "metadata": {},
   "source": [
    "Then write mathematical operations with data:"
   ]
  },
  {
   "cell_type": "code",
   "execution_count": 3,
   "id": "950af401-db66-4604-b5a0-f2a3faf90e16",
   "metadata": {},
   "outputs": [
    {
     "data": {
      "text/plain": [
       "array([[-2.25468933, -5.89920099,  4.72166139],\n",
       "       [10.95668507, -7.62487347,  0.15630083]])"
      ]
     },
     "execution_count": 3,
     "metadata": {},
     "output_type": "execute_result"
    }
   ],
   "source": [
    "data * 10"
   ]
  },
  {
   "cell_type": "code",
   "execution_count": 4,
   "id": "e21e2cd1-f7b3-4767-8865-c0baecc58295",
   "metadata": {},
   "outputs": [
    {
     "data": {
      "text/plain": [
       "array([[-0.45093787, -1.1798402 ,  0.94433228],\n",
       "       [ 2.19133701, -1.52497469,  0.03126017]])"
      ]
     },
     "execution_count": 4,
     "metadata": {},
     "output_type": "execute_result"
    }
   ],
   "source": [
    "data + data"
   ]
  },
  {
   "cell_type": "markdown",
   "id": "b18734f4-ae81-404b-8ee4-2665a6f13577",
   "metadata": {},
   "source": [
    "An ndarray is a generic multidimensional container for homogeneous data; that is all of the elements must be the same type. Every array has a __shape__, a tuple indicating the size of each dimension,<br>\n",
    "and a dtype, an object describing the _data type_ of the array. "
   ]
  },
  {
   "cell_type": "code",
   "execution_count": 7,
   "id": "1126efee-29cf-4efb-b434-e25c5fb9a666",
   "metadata": {},
   "outputs": [
    {
     "data": {
      "text/plain": [
       "(2, 3)"
      ]
     },
     "metadata": {},
     "output_type": "display_data"
    },
    {
     "data": {
      "text/plain": [
       "dtype('float64')"
      ]
     },
     "metadata": {},
     "output_type": "display_data"
    }
   ],
   "source": [
    "display(data.shape)\n",
    "display(data.dtype)"
   ]
  },
  {
   "cell_type": "markdown",
   "id": "e6829a25-f086-45c6-aa94-d73f63fc0a36",
   "metadata": {},
   "source": [
    "#### Creating ndarrays\n",
    "The easiest way to create an array is to use the array function. This accepts any sequence-like object (including other arrays) and produces a new NumPy array containing the passed data. For example,<br>\n",
    "a list is a good candidate for conversion:"
   ]
  },
  {
   "cell_type": "code",
   "execution_count": 10,
   "id": "af2a31ad-86f3-4830-844b-1a7287673aed",
   "metadata": {},
   "outputs": [
    {
     "data": {
      "text/plain": [
       "array([6. , 7.5, 8. , 0. , 1. ])"
      ]
     },
     "execution_count": 10,
     "metadata": {},
     "output_type": "execute_result"
    }
   ],
   "source": [
    "data1 = [6, 7.5, 8, 0, 1]\n",
    "arr1 = np.array(data1)\n",
    "arr1"
   ]
  },
  {
   "cell_type": "markdown",
   "id": "69a18140-ad8d-400e-84ee-cac994e13e4d",
   "metadata": {},
   "source": [
    "Nested sequences, like a list of equal-length lists, will be converted into a multidimensional array:"
   ]
  },
  {
   "cell_type": "code",
   "execution_count": 12,
   "id": "238ab3b5-9c62-477e-bf60-cf2bffbe8f03",
   "metadata": {},
   "outputs": [
    {
     "data": {
      "text/plain": [
       "array([[1, 2, 3, 4],\n",
       "       [5, 6, 7, 8]])"
      ]
     },
     "execution_count": 12,
     "metadata": {},
     "output_type": "execute_result"
    }
   ],
   "source": [
    "data2 = [[1,2,3,4],[5,6,7,8]]\n",
    "arr2 = np.array(data2)\n",
    "arr2"
   ]
  },
  {
   "cell_type": "markdown",
   "id": "78eee1d2-7ca5-42ca-83cd-35eb92eb27d7",
   "metadata": {},
   "source": [
    "Since data2 was a list of lists, the Numpy array __arr2__ has two dimensions with shape inferred from the data. We can confirm this by inspecting the __ndim__ and __shape__ attributes:"
   ]
  },
  {
   "cell_type": "code",
   "execution_count": 14,
   "id": "888b55d1-08c2-4906-9886-6f7086e20035",
   "metadata": {},
   "outputs": [
    {
     "data": {
      "text/plain": [
       "2"
      ]
     },
     "metadata": {},
     "output_type": "display_data"
    },
    {
     "data": {
      "text/plain": [
       "(2, 4)"
      ]
     },
     "metadata": {},
     "output_type": "display_data"
    }
   ],
   "source": [
    "display(arr2.ndim)\n",
    "display(arr2.shape)"
   ]
  },
  {
   "cell_type": "markdown",
   "id": "0d48e275-f6e3-43d6-8af2-aff681cf1556",
   "metadata": {},
   "source": [
    "arrange is an array-valued version of the built-in Python range function:"
   ]
  },
  {
   "cell_type": "code",
   "execution_count": 16,
   "id": "d85032b5-bb2d-42ee-9b3a-dd432e9dda89",
   "metadata": {},
   "outputs": [
    {
     "data": {
      "text/plain": [
       "array([ 0,  1,  2,  3,  4,  5,  6,  7,  8,  9, 10, 11, 12, 13, 14])"
      ]
     },
     "execution_count": 16,
     "metadata": {},
     "output_type": "execute_result"
    }
   ],
   "source": [
    "np.arange(15)"
   ]
  },
  {
   "cell_type": "markdown",
   "id": "b70f59f6-472f-4f17-8a0a-084a5d083599",
   "metadata": {},
   "source": [
    "You can explicity convert or _cast_ an array from one dtype to another using ndarray's __astype__ method:"
   ]
  },
  {
   "cell_type": "code",
   "execution_count": 18,
   "id": "ba25bec7-965a-45ef-83fb-d980217b940f",
   "metadata": {},
   "outputs": [
    {
     "data": {
      "text/plain": [
       "dtype('int32')"
      ]
     },
     "metadata": {},
     "output_type": "display_data"
    },
    {
     "data": {
      "text/plain": [
       "dtype('float64')"
      ]
     },
     "metadata": {},
     "output_type": "display_data"
    }
   ],
   "source": [
    "arr= np.array([1,2,3,4,5])\n",
    "display(arr.dtype)\n",
    "\n",
    "float_arr = arr.astype(np.float64)\n",
    "display(float_arr.dtype)"
   ]
  },
  {
   "cell_type": "code",
   "execution_count": 19,
   "id": "d765f8bf-12ab-4681-b52d-aaa7eb00b422",
   "metadata": {},
   "outputs": [
    {
     "data": {
      "text/plain": [
       "array([ 3.7, -1.2, -2.6,  0.5, 12.9, 10.1])"
      ]
     },
     "metadata": {},
     "output_type": "display_data"
    },
    {
     "data": {
      "text/plain": [
       "array([ 3, -1, -2,  0, 12, 10])"
      ]
     },
     "metadata": {},
     "output_type": "display_data"
    }
   ],
   "source": [
    "arr = np.array([3.7, -1.2, -2.6, 0.5, 12.9, 10.1])\n",
    "display(arr)\n",
    "display(arr.astype(np.int32))"
   ]
  },
  {
   "cell_type": "markdown",
   "id": "fd7a5d4a-2571-43b5-a66b-7f7599070329",
   "metadata": {},
   "source": [
    "If you have an array of strings representing numbers, you can use __astype__ to convert them to numeric form:"
   ]
  },
  {
   "cell_type": "code",
   "execution_count": 21,
   "id": "799cbe85-8e05-4a9a-85ab-8dd06a0ca725",
   "metadata": {},
   "outputs": [
    {
     "data": {
      "text/plain": [
       "array([ 1.25, -9.6 ,  4.2 ])"
      ]
     },
     "execution_count": 21,
     "metadata": {},
     "output_type": "execute_result"
    }
   ],
   "source": [
    "numeric_strings = np.array(['1.25', '-9.6', '4.2'], dtype = np.string_)\n",
    "numeric_strings.astype(np.float64)"
   ]
  },
  {
   "cell_type": "markdown",
   "id": "fd3a939a-9529-4330-9c34-a610529728df",
   "metadata": {},
   "source": [
    "#### Arithmetic with NumPy Arrays\n",
    "Arrays are important because they enable you to express batch operations on data without writing any for loops. NumPy users call this vectorization. Any arithmetic operations between equal-size arrays<br>\n",
    "applies the operation element-wise:"
   ]
  },
  {
   "cell_type": "code",
   "execution_count": 25,
   "id": "aa6f6e5a-c554-4621-b063-1d1789531f71",
   "metadata": {},
   "outputs": [
    {
     "data": {
      "text/plain": [
       "array([[1., 2., 3.],\n",
       "       [4., 5., 6.]])"
      ]
     },
     "metadata": {},
     "output_type": "display_data"
    },
    {
     "data": {
      "text/plain": [
       "array([[ 1.,  4.,  9.],\n",
       "       [16., 25., 36.]])"
      ]
     },
     "metadata": {},
     "output_type": "display_data"
    },
    {
     "data": {
      "text/plain": [
       "array([[0., 0., 0.],\n",
       "       [0., 0., 0.]])"
      ]
     },
     "metadata": {},
     "output_type": "display_data"
    }
   ],
   "source": [
    "arr = np.array([[1.,2.,3.], [4., 5.,6.]])\n",
    "display(arr) \n",
    "display(arr*arr)\n",
    "display(arr-arr)"
   ]
  },
  {
   "cell_type": "markdown",
   "id": "eb5a78fe-5e33-44eb-aca4-a58a91429dc8",
   "metadata": {},
   "source": [
    "Arithmetic operations with scalars propagate the scalar argument to each element in the array:"
   ]
  },
  {
   "cell_type": "code",
   "execution_count": 26,
   "id": "37a7de53-d76b-47cb-b7e7-a3e4cf59dfbc",
   "metadata": {},
   "outputs": [
    {
     "data": {
      "text/plain": [
       "array([[1.        , 0.5       , 0.33333333],\n",
       "       [0.25      , 0.2       , 0.16666667]])"
      ]
     },
     "metadata": {},
     "output_type": "display_data"
    },
    {
     "data": {
      "text/plain": [
       "array([[1.        , 1.41421356, 1.73205081],\n",
       "       [2.        , 2.23606798, 2.44948974]])"
      ]
     },
     "metadata": {},
     "output_type": "display_data"
    }
   ],
   "source": [
    "display(1/arr)\n",
    "display(arr**0.5)"
   ]
  },
  {
   "cell_type": "markdown",
   "id": "1662902a-5756-405c-89fd-37cf1c0b321d",
   "metadata": {},
   "source": [
    "Comparisons betweena arrays of the same size yield boolean arrays:"
   ]
  },
  {
   "cell_type": "code",
   "execution_count": 27,
   "id": "b10c420d-d60c-4577-be0e-a3d5b27dbe60",
   "metadata": {},
   "outputs": [
    {
     "data": {
      "text/plain": [
       "array([[ 0.,  4.,  1.],\n",
       "       [ 7.,  2., 12.]])"
      ]
     },
     "metadata": {},
     "output_type": "display_data"
    },
    {
     "data": {
      "text/plain": [
       "array([[False,  True, False],\n",
       "       [ True, False,  True]])"
      ]
     },
     "execution_count": 27,
     "metadata": {},
     "output_type": "execute_result"
    }
   ],
   "source": [
    "arr2 = np.array([[0., 4., 1.], [7., 2., 12.]])\n",
    "display(arr2)\n",
    "arr2 > arr"
   ]
  },
  {
   "cell_type": "markdown",
   "id": "8d7bccf7-050f-4fcd-be1f-ce131b1e64de",
   "metadata": {},
   "source": [
    "Evaluating operation between differently sized arrays is called _broadcasting_ and will be discussed more detail in Appendix A.<br>\n",
    "#### Basic Indexing and Sling\n",
    "One-dimensional arrays are simple on the surface they act similarly to Python list:"
   ]
  },
  {
   "cell_type": "code",
   "execution_count": 32,
   "id": "43277256-eaad-44a2-9ada-fea4b502a091",
   "metadata": {},
   "outputs": [
    {
     "data": {
      "text/plain": [
       "array([0, 1, 2, 3, 4, 5, 6, 7, 8, 9])"
      ]
     },
     "metadata": {},
     "output_type": "display_data"
    },
    {
     "data": {
      "text/plain": [
       "5"
      ]
     },
     "metadata": {},
     "output_type": "display_data"
    },
    {
     "data": {
      "text/plain": [
       "array([5, 6, 7])"
      ]
     },
     "metadata": {},
     "output_type": "display_data"
    },
    {
     "data": {
      "text/plain": [
       "array([ 0,  1,  2,  3,  4, 12, 12, 12,  8,  9])"
      ]
     },
     "metadata": {},
     "output_type": "display_data"
    }
   ],
   "source": [
    "arr = np.arange(10)\n",
    "display(arr)\n",
    "display(arr[5])\n",
    "display(arr[5:8])\n",
    "arr[5:8] = 12\n",
    "display(arr)\n"
   ]
  },
  {
   "cell_type": "markdown",
   "id": "4fe8ef7b-ca4d-4516-93b2-a39c1fd742be",
   "metadata": {},
   "source": [
    "Where arr[5:8] = 12, the value is _broadcasted_ to the entire selection."
   ]
  },
  {
   "cell_type": "code",
   "execution_count": null,
   "id": "4bd4e055-299d-4009-a480-3f1b59739b7b",
   "metadata": {},
   "outputs": [],
   "source": []
  }
 ],
 "metadata": {
  "kernelspec": {
   "display_name": "Python 3 (ipykernel)",
   "language": "python",
   "name": "python3"
  },
  "language_info": {
   "codemirror_mode": {
    "name": "ipython",
    "version": 3
   },
   "file_extension": ".py",
   "mimetype": "text/x-python",
   "name": "python",
   "nbconvert_exporter": "python",
   "pygments_lexer": "ipython3",
   "version": "3.9.7"
  }
 },
 "nbformat": 4,
 "nbformat_minor": 5
}
