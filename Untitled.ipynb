{
 "cells": [
  {
   "cell_type": "markdown",
   "id": "b081107e-6ab0-4bea-b744-0b66870c6323",
   "metadata": {},
   "source": [
    "## Chapter 4 NumPy Basics: Arrays and Vectorized Computation\n",
    "For most data analysis applications, the main areas of funcionality:\n",
    "* Fast Vectorized array operations for data munging and cleaning, subsetting and any other kinds of computations.\n",
    "* Common array algorithms like sorting, unique, and set operations. \n",
    "* Efficient descriptive statistics and aggregating/summarizing data.\n",
    "* Data alignment and relation data manipulations for merging and joining together heterogeneous datasets.\n",
    "* Expressing conditional logic as array expressions instead of loops with if-elif-else branches\n",
    "* Group-wise data manipulations (aggregation, transformation, function application)\n",
    "<br>\n",
    "***\n",
    "### 4.1 The NumPy ndarray: A Multidimensional Array Object\n",
    "One of the key features of NumPy is its N-dimensional array object (__ndarray__) which is a fast, flexible container for large datasets in Python.<br>\n",
    "Arrays enable you to perform mathematical operations on whole blocks of data using similar syntax to the equivalent operations between scalar<br> \n",
    "elements. <br>\n",
    "<br>\n",
    "NumPy enables batch computations with similar syntax to scalar values on built-in Python objects, I first import NumPy and generate a small array<br>\n",
    "of random data:"
   ]
  },
  {
   "cell_type": "code",
   "execution_count": 2,
   "id": "a569e8de-d301-4da5-ad8f-2347552c2a6b",
   "metadata": {},
   "outputs": [
    {
     "data": {
      "text/plain": [
       "array([[-1.2806075 ,  0.32678874,  0.41065968],\n",
       "       [ 0.7014612 ,  0.58376833, -0.11916396]])"
      ]
     },
     "execution_count": 2,
     "metadata": {},
     "output_type": "execute_result"
    }
   ],
   "source": [
    "#Example:\n",
    "import numpy as np\n",
    "\n",
    "#Generate some random data\n",
    "\n",
    "data = np.random.randn(2,3)\n",
    "data"
   ]
  },
  {
   "cell_type": "markdown",
   "id": "dee183b0-b765-4ebf-a00d-f4d74491c14b",
   "metadata": {},
   "source": [
    "Then write mathematical operations with data:"
   ]
  },
  {
   "cell_type": "code",
   "execution_count": 3,
   "id": "950af401-db66-4604-b5a0-f2a3faf90e16",
   "metadata": {},
   "outputs": [
    {
     "data": {
      "text/plain": [
       "array([[-12.806075  ,   3.26788743,   4.10659682],\n",
       "       [  7.01461197,   5.83768327,  -1.19163959]])"
      ]
     },
     "execution_count": 3,
     "metadata": {},
     "output_type": "execute_result"
    }
   ],
   "source": [
    "data * 10"
   ]
  },
  {
   "cell_type": "code",
   "execution_count": 4,
   "id": "e21e2cd1-f7b3-4767-8865-c0baecc58295",
   "metadata": {},
   "outputs": [
    {
     "data": {
      "text/plain": [
       "array([[-2.561215  ,  0.65357749,  0.82131936],\n",
       "       [ 1.40292239,  1.16753665, -0.23832792]])"
      ]
     },
     "execution_count": 4,
     "metadata": {},
     "output_type": "execute_result"
    }
   ],
   "source": [
    "data + data"
   ]
  },
  {
   "cell_type": "code",
   "execution_count": null,
   "id": "59cbf33a-08f6-4672-bcc5-44029f724b49",
   "metadata": {},
   "outputs": [],
   "source": []
  }
 ],
 "metadata": {
  "kernelspec": {
   "display_name": "Python 3 (ipykernel)",
   "language": "python",
   "name": "python3"
  },
  "language_info": {
   "codemirror_mode": {
    "name": "ipython",
    "version": 3
   },
   "file_extension": ".py",
   "mimetype": "text/x-python",
   "name": "python",
   "nbconvert_exporter": "python",
   "pygments_lexer": "ipython3",
   "version": "3.9.7"
  }
 },
 "nbformat": 4,
 "nbformat_minor": 5
}
